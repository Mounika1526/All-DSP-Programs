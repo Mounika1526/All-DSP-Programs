{
 "cells": [
  {
   "cell_type": "code",
   "execution_count": 6,
   "metadata": {},
   "outputs": [
    {
     "name": "stdout",
     "output_type": "stream",
     "text": [
      "file created\n",
      "End of the file\n"
     ]
    }
   ],
   "source": [
    "file_ob=open(\"file-1.txt\",\"w\")\n",
    "print(\"file created\")\n",
    "file_ob.write(\"1,2,3\")\n",
    "file_ob.close()\n",
    "print(\"End of the file\")"
   ]
  },
  {
   "cell_type": "code",
   "execution_count": 7,
   "metadata": {},
   "outputs": [
    {
     "name": "stdout",
     "output_type": "stream",
     "text": [
      "file created\n",
      "End of the file\n"
     ]
    }
   ],
   "source": [
    "file_ob=open(\"file-2.txt\",\"w\")\n",
    "print(\"file created\")\n",
    "file_ob.write(\"a,b,c\")\n",
    "file_ob.close()\n",
    "print(\"End of the file\")"
   ]
  },
  {
   "cell_type": "code",
   "execution_count": 8,
   "metadata": {},
   "outputs": [],
   "source": [
    "file1=open(\"file-1.txt\",\"r\")\n",
    "file2=open(\"file-2.txt\",\"w\")\n",
    "file2.write(file1.read())\n",
    "file2.close()\n",
    "file2=open(\"file-2.txt\",\"r\")\n",
    "file1=open(\"file-1.txt\",\"w\")\n",
    "file1.write(file2.read())\n",
    "file1.close()"
   ]
  },
  {
   "cell_type": "code",
   "execution_count": 3,
   "metadata": {},
   "outputs": [
    {
     "name": "stdout",
     "output_type": "stream",
     "text": [
      "['1,2,3']\n"
     ]
    }
   ],
   "source": [
    "with open(\"file-1.txt\",\"r\") as file:\n",
    "    data=file.readlines()\n",
    "    for line in data:\n",
    "        word=line.split()\n",
    "        print(word)"
   ]
  },
  {
   "cell_type": "code",
   "execution_count": 4,
   "metadata": {},
   "outputs": [
    {
     "name": "stdout",
     "output_type": "stream",
     "text": [
      "['1,2,3']\n"
     ]
    }
   ],
   "source": [
    "with open(\"file-2.txt\",\"r\") as file:\n",
    "    data=file.readlines()\n",
    "    for line in data:\n",
    "        word=line.split()\n",
    "        print(word)"
   ]
  },
  {
   "cell_type": "code",
   "execution_count": 10,
   "metadata": {},
   "outputs": [],
   "source": [
    "file1=open(\"file-1.txt\",\"w\")\n",
    "file1.write(\"This is the first command \\n\")\n",
    "file1.write(\"This is the second command\")\n",
    "file1.close()"
   ]
  },
  {
   "cell_type": "code",
   "execution_count": 13,
   "metadata": {},
   "outputs": [],
   "source": [
    "file1=open(\"file-1.txt\",\"w\")\n",
    "file1.write(\"This is new command\")\n",
    "file.close()"
   ]
  },
  {
   "cell_type": "code",
   "execution_count": 19,
   "metadata": {},
   "outputs": [
    {
     "name": "stdout",
     "output_type": "stream",
     "text": [
      "Program is executed\n"
     ]
    }
   ],
   "source": [
    "file1=open(\"file-1.txt\",\"r\")\n",
    "file1.readlines(5)\n",
    "file1.close()\n",
    "print(\"Program is executed\")"
   ]
  },
  {
   "cell_type": "code",
   "execution_count": null,
   "metadata": {},
   "outputs": [],
   "source": []
  },
  {
   "cell_type": "code",
   "execution_count": null,
   "metadata": {},
   "outputs": [],
   "source": []
  }
 ],
 "metadata": {
  "kernelspec": {
   "display_name": "Python 3",
   "language": "python",
   "name": "python3"
  },
  "language_info": {
   "codemirror_mode": {
    "name": "ipython",
    "version": 3
   },
   "file_extension": ".py",
   "mimetype": "text/x-python",
   "name": "python",
   "nbconvert_exporter": "python",
   "pygments_lexer": "ipython3",
   "version": "3.7.4"
  }
 },
 "nbformat": 4,
 "nbformat_minor": 2
}
