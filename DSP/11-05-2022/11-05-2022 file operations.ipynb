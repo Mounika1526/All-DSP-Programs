{
 "cells": [
  {
   "cell_type": "code",
   "execution_count": 1,
   "metadata": {},
   "outputs": [
    {
     "name": "stdout",
     "output_type": "stream",
     "text": [
      "file created\n",
      "End of the file\n"
     ]
    }
   ],
   "source": [
    "file_ob=open(\"f1.txt\",\"w\")\n",
    "print(\"file created\")\n",
    "file_ob.close()\n",
    "print(\"End of the file\")"
   ]
  },
  {
   "cell_type": "code",
   "execution_count": 4,
   "metadata": {},
   "outputs": [
    {
     "name": "stdout",
     "output_type": "stream",
     "text": [
      "file created\n",
      "End of the file\n"
     ]
    }
   ],
   "source": [
    "file_ob=open(\"f1.txt\",\"w\")\n",
    "print(\"file created\")\n",
    "file_ob.write(\"Hello...!\")\n",
    "file_ob.close()\n",
    "print(\"End of the file\")"
   ]
  },
  {
   "cell_type": "code",
   "execution_count": 6,
   "metadata": {},
   "outputs": [
    {
     "name": "stdout",
     "output_type": "stream",
     "text": [
      "file created\n",
      "\n",
      "End of the file\n"
     ]
    }
   ],
   "source": [
    "file_ob=open(\"f1.txt\",\"r\")\n",
    "print(\"file created\")\n",
    "text=file_ob.read()\n",
    "print(text)\n",
    "file_ob.close()\n",
    "print(\"End of the file\")"
   ]
  },
  {
   "cell_type": "code",
   "execution_count": 9,
   "metadata": {},
   "outputs": [
    {
     "name": "stdout",
     "output_type": "stream",
     "text": [
      "file created\n",
      "End of the file\n"
     ]
    }
   ],
   "source": [
    "file_ob=open(\"f1.txt\",\"a\")\n",
    "print(\"file created\")\n",
    "file_ob.write(\"Hello...!\")\n",
    "file_ob.write(\"World...\\n Mounika\\n CSE-2D\")\n",
    "file_ob.close()\n",
    "print(\"End of the file\")"
   ]
  },
  {
   "cell_type": "code",
   "execution_count": null,
   "metadata": {},
   "outputs": [],
   "source": []
  }
 ],
 "metadata": {
  "kernelspec": {
   "display_name": "Python 3",
   "language": "python",
   "name": "python3"
  },
  "language_info": {
   "codemirror_mode": {
    "name": "ipython",
    "version": 3
   },
   "file_extension": ".py",
   "mimetype": "text/x-python",
   "name": "python",
   "nbconvert_exporter": "python",
   "pygments_lexer": "ipython3",
   "version": "3.7.4"
  }
 },
 "nbformat": 4,
 "nbformat_minor": 2
}
