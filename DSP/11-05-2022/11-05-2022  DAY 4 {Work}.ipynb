{
 "cells": [
  {
   "cell_type": "markdown",
   "metadata": {},
   "source": [
    "## Program to check co-prome or not"
   ]
  },
  {
   "cell_type": "code",
   "execution_count": 3,
   "metadata": {},
   "outputs": [
    {
     "name": "stdout",
     "output_type": "stream",
     "text": [
      "Enter 1st number :4\n",
      "Enter 2nd number :8\n",
      "4 and 8 are not coprime\n"
     ]
    }
   ],
   "source": [
    "def coprime(a,b):\n",
    "    hcf=1\n",
    "    for i in range(1,a+1):\n",
    "        if a%i==0 and b%i==0:\n",
    "            hcf=i\n",
    "    return hcf == 1\n",
    "x= int(input(\"Enter 1st number :\"))\n",
    "y= int(input(\"Enter 2nd number :\"))\n",
    "if coprime(x,y):\n",
    "    print(x,\"and\",y,\"are coprime\")\n",
    "else:\n",
    "    print(x,\"and\",y,\"are not coprime\")"
   ]
  },
  {
   "cell_type": "code",
   "execution_count": 10,
   "metadata": {},
   "outputs": [
    {
     "name": "stdout",
     "output_type": "stream",
     "text": [
      "Enter the value of n :10\n",
      "10 th fibonacci number is 34\n"
     ]
    }
   ],
   "source": [
    "# for nth fibonacci number\n",
    "def fib(n):\n",
    "    if n<=0:\n",
    "        print(\"fibonacci is not possible\")\n",
    "    elif n==1:\n",
    "        return 0\n",
    "    elif n==2:\n",
    "        return 1\n",
    "    else:\n",
    "        return fib(n-1)+fib(n-2)\n",
    "n= int(input(\"Enter the value of n :\"))\n",
    "\n",
    "print(n,\"th fibonacci number is\",fib(n))"
   ]
  },
  {
   "cell_type": "code",
   "execution_count": 22,
   "metadata": {},
   "outputs": [
    {
     "name": "stdout",
     "output_type": "stream",
     "text": [
      "Enter the value : 10\n",
      "Fibonacci series : 0 1 1 2 3 5 8 13 21 34 \n"
     ]
    }
   ],
   "source": [
    " # first n fibonacci number\n",
    "n=int(input(\"Enter the value : \"))\n",
    "n1,n2=0,1\n",
    "print(\"Fibonacci series :\",n1,n2, end=\" \")\n",
    "for i in range(2,n):\n",
    "    n3=n1+n2\n",
    "    n1=n2\n",
    "    n2=n3\n",
    "    print(n3,end=\" \")\n",
    "print()"
   ]
  },
  {
   "cell_type": "code",
   "execution_count": 9,
   "metadata": {},
   "outputs": [
    {
     "name": "stdout",
     "output_type": "stream",
     "text": [
      "Enter the number :10\n",
      "0 1 1 2 3 5 8 "
     ]
    }
   ],
   "source": [
    "# upto n number\n",
    "n=int(input(\"Enter the number :\"))\n",
    "n1,n2=0,1\n",
    "print(n1,end=\" \")\n",
    "print(n2,end=\" \")\n",
    "n3=n1+n2\n",
    "while(n3<=n):\n",
    "    print(n3,end=\" \")\n",
    "    n1=n2\n",
    "    n2=n3\n",
    "    n3=n1+n2"
   ]
  },
  {
   "cell_type": "code",
   "execution_count": null,
   "metadata": {},
   "outputs": [],
   "source": []
  }
 ],
 "metadata": {
  "kernelspec": {
   "display_name": "Python 3",
   "language": "python",
   "name": "python3"
  },
  "language_info": {
   "codemirror_mode": {
    "name": "ipython",
    "version": 3
   },
   "file_extension": ".py",
   "mimetype": "text/x-python",
   "name": "python",
   "nbconvert_exporter": "python",
   "pygments_lexer": "ipython3",
   "version": "3.7.4"
  }
 },
 "nbformat": 4,
 "nbformat_minor": 2
}
