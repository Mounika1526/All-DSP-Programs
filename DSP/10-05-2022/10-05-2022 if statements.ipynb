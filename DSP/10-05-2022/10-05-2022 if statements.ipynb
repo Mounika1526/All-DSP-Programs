{
 "cells": [
  {
   "cell_type": "code",
   "execution_count": 5,
   "metadata": {},
   "outputs": [
    {
     "name": "stdout",
     "output_type": "stream",
     "text": [
      "30 is greater\n"
     ]
    }
   ],
   "source": [
    "# using if\n",
    "a=10\n",
    "b=20\n",
    "c=30\n",
    "if (a>b and a>c):\n",
    "    print(a,\"is greater\")\n",
    "if(b>a and b>c):\n",
    "    print(b,\"is greater\")\n",
    "if(c>a and c>b):\n",
    "    print(c,\"is greater\")"
   ]
  },
  {
   "cell_type": "code",
   "execution_count": 5,
   "metadata": {},
   "outputs": [
    {
     "name": "stdout",
     "output_type": "stream",
     "text": [
      "20 is greater\n"
     ]
    }
   ],
   "source": [
    "# using Nested if\n",
    "a=20\n",
    "b=10\n",
    "c=15\n",
    "if (a>b):\n",
    "    if(a>c):\n",
    "        print(a,\"is greater\")\n",
    "    else:\n",
    "        print(c,\"is greater\")\n",
    "else:\n",
    "    if(b>c):\n",
    "        print(b,\"is greater\")\n",
    "    else:\n",
    "        print(c,\"is greater\")"
   ]
  },
  {
   "cell_type": "code",
   "execution_count": 15,
   "metadata": {},
   "outputs": [
    {
     "name": "stdout",
     "output_type": "stream",
     "text": [
      "200 is greater\n"
     ]
    }
   ],
   "source": [
    "# using elif\n",
    "a=10\n",
    "b=20\n",
    "c=30\n",
    "if(a>b and a>c):\n",
    "    print(a,\"is greater\")\n",
    "elif(b>c):\n",
    "    print(b,\"is greater\")\n",
    "else:\n",
    "    print(c,\"is greater\")"
   ]
  },
  {
   "cell_type": "markdown",
   "metadata": {},
   "source": [
    "- Program whether given number is +ve/ -ve/ 0"
   ]
  },
  {
   "cell_type": "code",
   "execution_count": 23,
   "metadata": {},
   "outputs": [
    {
     "name": "stdout",
     "output_type": "stream",
     "text": [
      "Enter a number-100\n",
      "-ve\n"
     ]
    }
   ],
   "source": [
    "# using if\n",
    "x= int(input(\"Enter a number\"))\n",
    "if(x>0):\n",
    "    print(\"+ve\")\n",
    "if(x<0):\n",
    "    print(\"-ve\")\n",
    "if(x==0):\n",
    "    print(\"0\")"
   ]
  },
  {
   "cell_type": "code",
   "execution_count": 27,
   "metadata": {},
   "outputs": [
    {
     "name": "stdout",
     "output_type": "stream",
     "text": [
      "Enter a number :-90\n",
      "-ve\n"
     ]
    }
   ],
   "source": [
    "# nested if\n",
    "x= int(input(\"Enter a number :\"))\n",
    "if(x>=0):\n",
    "    if(x==0):\n",
    "        print(\"0\")\n",
    "    else:\n",
    "        print(\"+ve\")\n",
    "else:\n",
    "    print(\"-ve\")"
   ]
  },
  {
   "cell_type": "code",
   "execution_count": 30,
   "metadata": {},
   "outputs": [
    {
     "name": "stdout",
     "output_type": "stream",
     "text": [
      "Enter a number :538\n",
      "+ve\n"
     ]
    }
   ],
   "source": [
    "# using elif\n",
    "x=int(input(\"Enter a number :\"))\n",
    "if(x==0):\n",
    "    print(\"0\")\n",
    "elif(x>0):\n",
    "    print(\"+ve\")\n",
    "else:\n",
    "    print(\"-ve\")"
   ]
  },
  {
   "cell_type": "code",
   "execution_count": null,
   "metadata": {},
   "outputs": [],
   "source": []
  }
 ],
 "metadata": {
  "kernelspec": {
   "display_name": "Python 3",
   "language": "python",
   "name": "python3"
  },
  "language_info": {
   "codemirror_mode": {
    "name": "ipython",
    "version": 3
   },
   "file_extension": ".py",
   "mimetype": "text/x-python",
   "name": "python",
   "nbconvert_exporter": "python",
   "pygments_lexer": "ipython3",
   "version": "3.7.4"
  }
 },
 "nbformat": 4,
 "nbformat_minor": 2
}
