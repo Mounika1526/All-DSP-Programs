{
 "cells": [
  {
   "cell_type": "code",
   "execution_count": 2,
   "metadata": {},
   "outputs": [
    {
     "name": "stdout",
     "output_type": "stream",
     "text": [
      "<re.Match object; span=(8, 10), match='To'>\n"
     ]
    }
   ],
   "source": [
    "import re \n",
    "text=\"Welcome To pYthoN, How arE You\"\n",
    "ans=re.search(\"To\",text)\n",
    "print(ans)"
   ]
  },
  {
   "cell_type": "code",
   "execution_count": 3,
   "metadata": {},
   "outputs": [
    {
     "name": "stdout",
     "output_type": "stream",
     "text": [
      "<re.Match object; span=(3, 4), match='c'>\n"
     ]
    }
   ],
   "source": [
    "import re \n",
    "text=\"Welcome To pYthoN, How arE You\"\n",
    "ans=re.search(\"[a,b,c]\",text)\n",
    "print(ans)"
   ]
  },
  {
   "cell_type": "code",
   "execution_count": 4,
   "metadata": {},
   "outputs": [
    {
     "name": "stdout",
     "output_type": "stream",
     "text": [
      "None\n"
     ]
    }
   ],
   "source": [
    "import re \n",
    "text=\"Welcome To pYthoN, How arE You\"\n",
    "ans=re.search(\"[0-9]\",text)\n",
    "print(ans)"
   ]
  },
  {
   "cell_type": "code",
   "execution_count": 6,
   "metadata": {},
   "outputs": [
    {
     "name": "stdout",
     "output_type": "stream",
     "text": [
      "['e', 'l', 'c', 'o', 'm', 'e', 'o', 'p', 't', 'h', 'o', 'o', 'w', 'a', 'r', 'o', 'u']\n"
     ]
    }
   ],
   "source": [
    "import re \n",
    "text=\"Welcome To pYthoN, How arE You\"\n",
    "ans=re.findall(\"[a-z]\",text)\n",
    "print(ans)"
   ]
  },
  {
   "cell_type": "code",
   "execution_count": 7,
   "metadata": {},
   "outputs": [
    {
     "name": "stdout",
     "output_type": "stream",
     "text": [
      "['Wel']\n"
     ]
    }
   ],
   "source": [
    "import re \n",
    "text=\"Welcome To pYthoN, How arE You\"\n",
    "ans=re.findall(\"Wel\",text)\n",
    "print(ans)"
   ]
  },
  {
   "cell_type": "code",
   "execution_count": 8,
   "metadata": {},
   "outputs": [
    {
     "name": "stdout",
     "output_type": "stream",
     "text": [
      "<re.Match object; span=(0, 3), match='Wel'>\n"
     ]
    }
   ],
   "source": [
    "import re \n",
    "text=\"Welcome To pYthoN, How arE You\"\n",
    "ans=re.search(\"^Wel\",text)\n",
    "print(ans)"
   ]
  },
  {
   "cell_type": "code",
   "execution_count": 9,
   "metadata": {},
   "outputs": [
    {
     "name": "stdout",
     "output_type": "stream",
     "text": [
      "['Wel']\n"
     ]
    }
   ],
   "source": [
    "import re \n",
    "text=\"Welcome To pYthoN, How arE You\"\n",
    "ans=re.findall(\"^Wel\",text)\n",
    "print(ans)"
   ]
  },
  {
   "cell_type": "code",
   "execution_count": 10,
   "metadata": {},
   "outputs": [
    {
     "name": "stdout",
     "output_type": "stream",
     "text": [
      "['You']\n"
     ]
    }
   ],
   "source": [
    "import re \n",
    "text=\"Welcome To pYthoN, How arE You\"\n",
    "ans=re.findall(\"You$\",text)\n",
    "print(ans)"
   ]
  },
  {
   "cell_type": "code",
   "execution_count": 11,
   "metadata": {},
   "outputs": [
    {
     "name": "stdout",
     "output_type": "stream",
     "text": [
      "[]\n"
     ]
    }
   ],
   "source": [
    "import re \n",
    "text=\"Welcome To pYthoN, How arE You\"\n",
    "ans=re.findall(\"you\",text)\n",
    "print(ans)"
   ]
  },
  {
   "cell_type": "code",
   "execution_count": 12,
   "metadata": {},
   "outputs": [
    {
     "name": "stdout",
     "output_type": "stream",
     "text": [
      "['pYthoN, How arE You']\n"
     ]
    }
   ],
   "source": [
    "import re \n",
    "text=\"Welcome To pYthoN, How arE You\"\n",
    "ans=re.findall(\"p.*\",text)\n",
    "print(ans)"
   ]
  },
  {
   "cell_type": "code",
   "execution_count": 13,
   "metadata": {},
   "outputs": [
    {
     "name": "stdout",
     "output_type": "stream",
     "text": [
      "['m']\n"
     ]
    }
   ],
   "source": [
    "import re \n",
    "text=\"Welcome To pYthoN, How arE You\"\n",
    "ans=re.findall(\"m+\",text)\n",
    "print(ans)"
   ]
  },
  {
   "cell_type": "code",
   "execution_count": null,
   "metadata": {},
   "outputs": [],
   "source": []
  }
 ],
 "metadata": {
  "kernelspec": {
   "display_name": "Python 3",
   "language": "python",
   "name": "python3"
  },
  "language_info": {
   "codemirror_mode": {
    "name": "ipython",
    "version": 3
   },
   "file_extension": ".py",
   "mimetype": "text/x-python",
   "name": "python",
   "nbconvert_exporter": "python",
   "pygments_lexer": "ipython3",
   "version": "3.7.4"
  }
 },
 "nbformat": 4,
 "nbformat_minor": 2
}
